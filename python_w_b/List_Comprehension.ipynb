{
 "cells": [
  {
   "cell_type": "markdown",
   "id": "498ed43d",
   "metadata": {},
   "source": [
    "# List Comprehension in Python\n",
    "\n",
    "List comprehension provides a **concise way** to create lists using a single line of code.\n",
    "\n",
    "### **Syntax:**\n",
    "```python\n",
    "[expression for item in iterable if condition]\n",
    "```\n",
    "- **`expression`** → What you want to do with `item`\n",
    "- **`item`** → Each element from `iterable`\n",
    "- **`if condition`** (optional) → Filters elements\n"
   ]
  },
  {
   "cell_type": "markdown",
   "id": "7b21f7a3",
   "metadata": {},
   "source": [
    "## **1️⃣ Basic Examples**\n",
    "### **Example 1: Squaring Numbers**\n"
   ]
  },
  {
   "cell_type": "code",
   "execution_count": null,
   "id": "ccb63c88",
   "metadata": {},
   "outputs": [],
   "source": [
    "numbers = [1, 2, 3, 4, 5]\n",
    "squares = [x**2 for x in numbers]\n",
    "print(squares)  # Output: [1, 4, 9, 16, 25]"
   ]
  },
  {
   "cell_type": "markdown",
   "id": "6bfaeb52",
   "metadata": {},
   "source": [
    "### **Example 2: Filtering Even Numbers**"
   ]
  },
  {
   "cell_type": "code",
   "execution_count": null,
   "id": "1d7dbd0f",
   "metadata": {},
   "outputs": [],
   "source": [
    "numbers = [1, 2, 3, 4, 5, 6]\n",
    "evens = [x for x in numbers if x % 2 == 0]\n",
    "print(evens)  # Output: [2, 4, 6]"
   ]
  },
  {
   "cell_type": "markdown",
   "id": "ca564193",
   "metadata": {},
   "source": [
    "### **Example 3: Converting Strings to Uppercase**"
   ]
  },
  {
   "cell_type": "code",
   "execution_count": null,
   "id": "919dafad",
   "metadata": {},
   "outputs": [],
   "source": [
    "words = ['hello', 'world', 'python']\n",
    "uppercase_words = [word.upper() for word in words]\n",
    "print(uppercase_words)  # Output: ['HELLO', 'WORLD', 'PYTHON']"
   ]
  },
  {
   "cell_type": "markdown",
   "id": "14aa47d0",
   "metadata": {},
   "source": [
    "## **2️⃣ List Comprehension with `if-else`**\n",
    "### **Example 4: Labeling Even and Odd Numbers**"
   ]
  },
  {
   "cell_type": "code",
   "execution_count": null,
   "id": "67e508cc",
   "metadata": {},
   "outputs": [],
   "source": [
    "numbers = [1, 2, 3, 4, 5]\n",
    "labels = ['Even' if x % 2 == 0 else 'Odd' for x in numbers]\n",
    "print(labels)  # Output: ['Odd', 'Even', 'Odd', 'Even', 'Odd']"
   ]
  },
  {
   "cell_type": "markdown",
   "id": "7d53fe55",
   "metadata": {},
   "source": [
    "## **3️⃣ Nested List Comprehension**\n",
    "### **Example 5: Multiplication Table**"
   ]
  },
  {
   "cell_type": "code",
   "execution_count": null,
   "id": "92763f63",
   "metadata": {},
   "outputs": [],
   "source": [
    "table = [[i * j for j in range(1, 6)] for i in range(1, 6)]\n",
    "print(table)"
   ]
  },
  {
   "cell_type": "markdown",
   "id": "6720b3b0",
   "metadata": {},
   "source": [
    "## **4️⃣ Using `zip()` in List Comprehension**\n",
    "### **Example 6: Pairing Two Lists**"
   ]
  },
  {
   "cell_type": "code",
   "execution_count": null,
   "id": "8df7ee4b",
   "metadata": {},
   "outputs": [],
   "source": [
    "names = ['Alice', 'Bob', 'Charlie']\n",
    "scores = [85, 90, 78]\n",
    "students = [(name, score) for name, score in zip(names, scores)]\n",
    "print(students)  # Output: [('Alice', 85), ('Bob', 90), ('Charlie', 78)]"
   ]
  },
  {
   "cell_type": "markdown",
   "id": "7a8930ec",
   "metadata": {},
   "source": [
    "## **🚀 Summary**\n",
    "- **Basic List Comprehension:** `[expression for item in iterable]`\n",
    "- **Filtering Elements:** `[x for x in iterable if condition]`\n",
    "- **Using `if-else`:** `['Even' if x % 2 == 0 else 'Odd' for x in numbers]`\n",
    "- **Nested List Comprehension:** `[[i * j for j in range()] for i in range()]`\n",
    "\n",
    "Let me know if you need more! 🚀"
   ]
  }
 ],
 "metadata": {},
 "nbformat": 4,
 "nbformat_minor": 5
}
