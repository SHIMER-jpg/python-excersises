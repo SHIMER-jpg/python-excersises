{
 "cells": [
  {
   "cell_type": "markdown",
   "id": "5a2057a8",
   "metadata": {},
   "source": [
    "# Phase 1: Foundations\n",
    "\n",
    "### Goal: Build a solid programming foundation with Python.\n",
    "\n",
    "**Topics Covered:**\n",
    "- Control Flow: Conditionals (`if`, `else`), Loops (`for`, `while`), `try-except-finally`\n",
    "- Functions: Writing reusable code\n",
    "- Importing & Exporting Modules\n"
   ]
  },
  {
   "cell_type": "markdown",
   "id": "81763af0",
   "metadata": {},
   "source": [
    "## 1. Control Flow: Conditionals (`if`, `else`)\n",
    "### Exercise 1: Temperature Check\n",
    "Write a program that categorizes temperature:\n",
    "- Above 30°C: `It's hot!`\n",
    "- Between 20°C and 30°C: `It's warm!`\n",
    "- Below 20°C: `It's cold!`"
   ]
  },
  {
   "cell_type": "code",
   "execution_count": null,
   "id": "0fdb2577",
   "metadata": {},
   "outputs": [],
   "source": [
    "temperature = 25  # Try changing this value\n",
    "if temperature > 30:\n",
    "    print(\"It's hot!\")\n",
    "elif 20 <= temperature <= 30:\n",
    "    print(\"It's warm!\")\n",
    "else:\n",
    "    print(\"It's cold!\")"
   ]
  },
  {
   "cell_type": "markdown",
   "id": "60345213",
   "metadata": {},
   "source": [
    "## 2. Loops (`for`, `while`)\n",
    "### Exercise 2: Sum of First 10 Numbers\n",
    "Write a `for` loop to sum numbers from 1 to 10."
   ]
  },
  {
   "cell_type": "code",
   "execution_count": null,
   "id": "f9b2b607",
   "metadata": {},
   "outputs": [],
   "source": [
    "total = 0\n",
    "for i in range(1, 11):\n",
    "    total += i\n",
    "print(\"Sum:\", total)  # Expected: 55"
   ]
  },
  {
   "cell_type": "markdown",
   "id": "0b57f28a",
   "metadata": {},
   "source": [
    "### Exercise 3: Countdown\n",
    "Write a `while` loop that counts down from 5 to 1 and then prints 'Liftoff!'.\n"
   ]
  },
  {
   "cell_type": "code",
   "execution_count": null,
   "id": "b50dfaa2",
   "metadata": {},
   "outputs": [],
   "source": [
    "count = 5\n",
    "while count > 0:\n",
    "    print(count)\n",
    "    count -= 1\n",
    "print(\"Liftoff!\")"
   ]
  },
  {
   "cell_type": "markdown",
   "id": "56a4694e",
   "metadata": {},
   "source": [
    "## 3. Try, Except, Finally\n",
    "### Exercise 4: Handling Errors\n",
    "Write a program that attempts to divide a number by zero.\n",
    "- If an error occurs, print `Cannot divide by zero!`\n",
    "- Always print `Execution finished.` using `finally`. "
   ]
  },
  {
   "cell_type": "code",
   "execution_count": null,
   "id": "ed6a2487",
   "metadata": {},
   "outputs": [],
   "source": [
    "try:\n",
    "    result = 10 / 0  # This will cause an error\n",
    "except ZeroDivisionError:\n",
    "    print(\"Cannot divide by zero!\")\n",
    "finally:\n",
    "    print(\"Execution finished.\")"
   ]
  },
  {
   "cell_type": "markdown",
   "id": "dee09205",
   "metadata": {},
   "source": [
    "## 4. Functions: Writing Reusable Code\n",
    "### Exercise 5: Square Function\n",
    "Write a function `square` that takes a number and returns its square."
   ]
  },
  {
   "cell_type": "code",
   "execution_count": null,
   "id": "c984063e",
   "metadata": {},
   "outputs": [],
   "source": [
    "def square(num):\n",
    "    return num * num\n",
    "\n",
    "# Test the function\n",
    "print(square(4))  # Expected: 16\n",
    "print(square(7))  # Expected: 49"
   ]
  },
  {
   "cell_type": "markdown",
   "id": "b62d1156",
   "metadata": {},
   "source": [
    "### Exercise 6: Greeting Function\n",
    "Write a function `greet` that takes a `name` and returns `'Hello, <name>!'`. "
   ]
  },
  {
   "cell_type": "code",
   "execution_count": null,
   "id": "363061ad",
   "metadata": {},
   "outputs": [],
   "source": [
    "def greet(name):\n",
    "    return f\"Hello, {name}!\"\n",
    "\n",
    "# Test the function\n",
    "print(greet(\"Alice\"))  # Expected: Hello, Alice!\n",
    "print(greet(\"Bob\"))  # Expected: Hello, Bob!"
   ]
  },
  {
   "cell_type": "markdown",
   "id": "793fde82",
   "metadata": {},
   "source": [
    "## 5. Importing & Exporting Modules\n",
    "### Exercise 7: Importing the Math Module\n",
    "Use Python's built-in `math` module to calculate the square root of 25."
   ]
  },
  {
   "cell_type": "code",
   "execution_count": null,
   "id": "514b8b7f",
   "metadata": {},
   "outputs": [],
   "source": [
    "import math\n",
    "print(math.sqrt(25))  # Expected: 5.0"
   ]
  },
  {
   "cell_type": "markdown",
   "id": "4a04f14a",
   "metadata": {},
   "source": [
    "### Exercise 8: Creating a Custom Module\n",
    "1. Create a Python file called `my_module.py`.\n",
    "2. Inside it, define a function `add(a, b)` that returns the sum.\n",
    "3. Import it in another script and call `add(3, 4)`."
   ]
  }
 ],
 "metadata": {},
 "nbformat": 4,
 "nbformat_minor": 5
}
